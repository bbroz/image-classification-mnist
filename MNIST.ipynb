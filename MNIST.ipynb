{
 "cells": [
  {
   "cell_type": "markdown",
   "metadata": {},
   "source": [
    "__Abstract/Motivation:__\n",
    "\n",
    "To learn to and showcase the training, testing and validation of an image classification model using several machline learning algorithms. \n",
    "\n",
    "__Dataset:__\n",
    "\n",
    "The widely used [MNIST](https://en.wikipedia.org/wiki/MNIST_database) database, containing 60,000 training images taken from the American Census Bureau and 10,000 testing images taken from American high school students of handwritten digits from 0-9.\n",
    "\n",
    "__Machline Learning Algorithms:__\n",
    "\n",
    "- Logistic Regression\n",
    "- Naive Bayes\n",
    "- Nearest Neighbor\n",
    "- Support Vector Machines\n",
    "- Decision Trees\n",
    "- XGBoost\n",
    "- Random Forest\n",
    "\n",
    "__Quantitative Assessments:__\n",
    "\n",
    "In order to assess, compare and track performance of machine learning algorithms, the following metrics will be used:\n",
    "\n",
    "- Accuracy Score\n",
    "- Precision\n",
    "- Recall\n",
    "- F1 Score"
   ]
  },
  {
   "cell_type": "code",
   "execution_count": 1,
   "metadata": {},
   "outputs": [
    {
     "name": "stdout",
     "output_type": "stream",
     "text": [
      "Image Data Shape:   (1797, 64)\n",
      "Image Target Shape: (1797,)\n"
     ]
    },
    {
     "data": {
      "text/plain": [
       "<Figure size 432x288 with 0 Axes>"
      ]
     },
     "metadata": {},
     "output_type": "display_data"
    },
    {
     "data": {
      "image/png": "[encoded data removed]",
      "text/plain": [
       "<Figure size 288x288 with 1 Axes>"
      ]
     },
     "metadata": {
      "needs_background": "light"
     },
     "output_type": "display_data"
    }
   ],
   "source": [
    "from sklearn.datasets import load_digits\n",
    "import matplotlib.pyplot as plt \n",
    "%matplotlib inline\n",
    "\n",
    "# load the dataset\n",
    "digits = load_digits()\n",
    "\n",
    "# print shape of data\n",
    "print(\"Image Data Shape:  \", digits.data.shape)\n",
    "# print shape of target\n",
    "print(\"Image Target Shape:\", digits.target.shape)\n",
    "\n",
    "# verify/look at first data point\n",
    "plt.gray() \n",
    "plt.matshow(digits.images[0]) \n",
    "plt.show() "
   ]
  },
  {
   "cell_type": "markdown",
   "metadata": {},
   "source": [
    "This is nice, but I want more than 1797 datapoints with a size of 64 (8x8 image). Let's download the original MNIST dataset from [Kaggle.](https://www.kaggle.com/avnishnish/mnist-original)\n",
    "\n",
    "No need to extract the data, just drop it into the same direction at this notebook and let the code below do the work of extracting and parsing the data into our feature and target variables."
   ]
  },
  {
   "cell_type": "code",
   "execution_count": 2,
   "metadata": {},
   "outputs": [
    {
     "name": "stdout",
     "output_type": "stream",
     "text": [
      "Image Data Shape:   (70000, 784)\n",
      "Image Target Shape: (70000,)\n"
     ]
    }
   ],
   "source": [
    "from zipfile import ZipFile\n",
    "from scipy.io import loadmat\n",
    "\n",
    "zf = ZipFile(\"mnist-original.zip\",\"r\")\n",
    "zf.extractall()\n",
    "\n",
    "mnist = loadmat(\"mnist-original.mat\")\n",
    "mnist_data = mnist[\"data\"].T\n",
    "mnist_label = mnist[\"label\"][0]\n",
    "\n",
    "# print shape of data\n",
    "print(\"Image Data Shape:  \", mnist_data.shape)\n",
    "# print shape of target\n",
    "print(\"Image Target Shape:\", mnist_label.shape)"
   ]
  },
  {
   "cell_type": "markdown",
   "metadata": {},
   "source": [
    "The data should be clean, but let's follow good practice and check anyway. \n",
    "\n",
    "Afterwards let's reshape our 784 long data point into a 28x28 grid and display a sample of the numerical images for the 10 unique values 0-9."
   ]
  },
  {
   "cell_type": "code",
   "execution_count": 3,
   "metadata": {},
   "outputs": [
    {
     "name": "stdout",
     "output_type": "stream",
     "text": [
      "MNIST data NaN:  0\n",
      "MNIST label NaN: 0\n",
      "[    0  5923 12665 18623 24754 30596 36017 41935 48200 54051]\n"
     ]
    },
    {
     "data": {
      "image/png": "[encoded data removed]",
      "text/plain": [
       "<Figure size 864x432 with 10 Axes>"
      ]
     },
     "metadata": {
      "needs_background": "light"
     },
     "output_type": "display_data"
    }
   ],
   "source": [
    "import numpy as np\n",
    "import pandas as pd\n",
    "\n",
    "# check for NaN values\n",
    "print(\"MNIST data NaN: \", np.isnan(mnist_data).sum())\n",
    "print(\"MNIST label NaN:\", np.isnan(mnist_label).sum())\n",
    "\n",
    "# get indices of all unique digits (0,9)\n",
    "digit_indices = np.unique(mnist_label, return_index=True)[1]\n",
    "print(digit_indices)\n",
    "\n",
    "plt.figure(figsize=(12, 6))\n",
    "plt.tight_layout()\n",
    "\n",
    "# iterate and display one of each unique digit\n",
    "for i in range(0, 10):\n",
    "    plt.subplot(2, 5, i+1)\n",
    "    plt.imshow(np.reshape(mnist_data[digit_indices[i]],(28,28)),cmap=\"Greys\")\n",
    "    plt.title('MNIST: %i\\n' % i, fontsize=20)\n",
    "\n",
    "plt.show()"
   ]
  },
  {
   "cell_type": "code",
   "execution_count": 4,
   "metadata": {},
   "outputs": [
    {
     "name": "stdout",
     "output_type": "stream",
     "text": [
      "X_train size: (49000, 784)\n",
      "X_test size: (21000, 784)\n"
     ]
    }
   ],
   "source": [
    "from sklearn.model_selection import train_test_split\n",
    "from sklearn.decomposition import PCA\n",
    "\n",
    "X_train, X_test, y_train, y_test = train_test_split(mnist_data, mnist_label, test_size=0.3, random_state=6)\n",
    "\n",
    "# verify train/test split size 70/30 => 49,000 / 21,000\n",
    "print(\"X_train size:\", X_train.shape)\n",
    "print(\"X_test size:\", X_test.shape)"
   ]
  },
  {
   "cell_type": "markdown",
   "metadata": {},
   "source": [
    "### Quantitative Assessment: Accuracy Score"
   ]
  },
  {
   "cell_type": "code",
   "execution_count": 5,
   "metadata": {},
   "outputs": [],
   "source": [
    "from sklearn.metrics import accuracy_score\n",
    "from tqdm import tqdm\n",
    "import time\n",
    "\n",
    "# global DataFrame to store all [M]odel [S]cores [T]imes\n",
    "df_mst = pd.DataFrame(columns = ['model_name',\n",
    "                                 'y_train_score',\n",
    "                                 'y_train_time',\n",
    "                                 'y_test_score',\n",
    "                                 'y_test_time',\n",
    "                                 'y_test_pred']) \n",
    "\n",
    "def score_model(ml_model,X_train,y_train,X_test,y_test):\n",
    "    \n",
    "    start = time.time()\n",
    "    y_train_pred = ml_model.predict(X_train)\n",
    "    end = time.time()\n",
    "    y_train_time = end-start\n",
    "\n",
    "    start = time.time()\n",
    "    y_test_pred = ml_model.predict(X_test)\n",
    "    end = time.time()\n",
    "    y_test_time = end-start\n",
    "    \n",
    "    print(\"Scoring: \",ml_model)\n",
    "    y_train_score = accuracy_score(y_train,y_train_pred)\n",
    "    y_test_score = accuracy_score(y_test,y_test_pred)\n",
    "    \n",
    "    print(f'Train Accuracy Score: {y_train_score:3.6f}')\n",
    "    print(f'Train Scoring Time: {y_train_time:3.3f} seconds')\n",
    "    print(f'Test Accuracy Score: {y_test_score:3.6f}')\n",
    "    print(f'Test Scoring Time: {y_test_time:3.3f} seconds\\n')\n",
    "    \n",
    "    return y_train_score, y_train_time, y_test_score, y_test_time, y_test_pred"
   ]
  },
  {
   "cell_type": "markdown",
   "metadata": {},
   "source": [
    "### Note on Algorithms:\n",
    "\n",
    "All algorithms below can be executed sequentially or individually out of order and it will not affect the quantitative assessment portion at the end."
   ]
  },
  {
   "cell_type": "markdown",
   "metadata": {},
   "source": [
    "### Algorithm 1: Logistic Regression"
   ]
  },
  {
   "cell_type": "code",
   "execution_count": 6,
   "metadata": {},
   "outputs": [
    {
     "name": "stdout",
     "output_type": "stream",
     "text": [
      "Scoring:  LogisticRegression(C=1.0, class_weight=None, dual=False, fit_intercept=True,\n",
      "                   intercept_scaling=1, l1_ratio=None, max_iter=100,\n",
      "                   multi_class='auto', n_jobs=-1, penalty='l2',\n",
      "                   random_state=None, solver='lbfgs', tol=0.0001, verbose=0,\n",
      "                   warm_start=False)\n",
      "Train Accuracy Score: 0.935816\n",
      "Train Scoring Time: 0.193 seconds\n",
      "Test Accuracy Score: 0.919810\n",
      "Test Scoring Time: 0.093 seconds\n",
      "\n"
     ]
    }
   ],
   "source": [
    "from sklearn.linear_model import LogisticRegression\n",
    "\n",
    "start = time.time()\n",
    "# instantiate\n",
    "log_reg = LogisticRegression(n_jobs=-1,solver='lbfgs',multi_class='auto')\n",
    "\n",
    "# fit\n",
    "log_reg.fit(X_train,y_train)\n",
    "end = time.time()\n",
    "\n",
    "# score\n",
    "y_trs, y_trt, y_tes, y_tet, y_pred = score_model(log_reg,X_train,y_train,X_test,y_test)\n",
    "\n",
    "df_mst.loc[len(df_mst)] = ('log_reg', y_trs, y_trt, y_tes, y_tet, y_pred)"
   ]
  },
  {
   "cell_type": "markdown",
   "metadata": {},
   "source": [
    "The execution time is higher than expected, so let's use PCA to reduce dimensionality."
   ]
  },
  {
   "cell_type": "code",
   "execution_count": 7,
   "metadata": {},
   "outputs": [
    {
     "name": "stderr",
     "output_type": "stream",
     "text": [
      "100%|██████████████████████████████████████████| 31/31 [03:50<00:00,  8.41s/it]\n"
     ]
    },
    {
     "name": "stdout",
     "output_type": "stream",
     "text": [
      "Train n_components = 31\n",
      "Train Accuracy = 0.892918\n",
      "\n",
      "Test n_components = 31\n",
      "Test Accuracy = 0.891524\n",
      "\n",
      "Execution time for 31 n_components = 8.776 seconds\n",
      "\n",
      "Total n_components optimization execution time = 230.076 seconds\n"
     ]
    }
   ],
   "source": [
    "from sklearn.decomposition import PCA\n",
    "from sklearn.preprocessing import StandardScaler\n",
    "from tqdm import tqdm\n",
    "\n",
    "# Store accuracy and execution values\n",
    "train_accuracies = []\n",
    "test_accuracies = []\n",
    "n_component_times = []\n",
    "n_comps = 32 # set number of n_components to optimize for\n",
    "\n",
    "for i in tqdm(np.arange(1,n_comps)):\n",
    "    \n",
    "    start = time.time()\n",
    "    # Instantiate and fit a PCA model to the data\n",
    "    logreg_pca = PCA(n_components=i)\n",
    "    logreg_pca.fit(X_train)\n",
    "\n",
    "    # Transform both train and test set\n",
    "    X_train_pca = logreg_pca.transform(X_train)\n",
    "    X_test_pca = logreg_pca.transform(X_test)\n",
    "\n",
    "    # Instantiate & fit a logistic regression model\n",
    "    logreg_mnist_pca = LogisticRegression(solver='lbfgs',multi_class='auto',n_jobs=-1)\n",
    "    logreg_mnist_pca.fit(X_train_pca, y_train)\n",
    "    \n",
    "    # Get our train and test accuracies\n",
    "    train_accuracy = logreg_mnist_pca.score(X_train_pca, y_train)\n",
    "    test_accuracy = logreg_mnist_pca.score(X_test_pca, y_test)\n",
    "    \n",
    "    # Append them to our lists of accuracies\n",
    "    train_accuracies.append(train_accuracy)\n",
    "    test_accuracies.append(test_accuracy)\n",
    "    \n",
    "    end = time.time()\n",
    "    n_component_times.append(end-start)\n",
    "    \n",
    "print(f'Train n_components = {train_accuracies.index(max(train_accuracies))+1}')\n",
    "print(f'Train Accuracy = {max(train_accuracies):3.6f}')\n",
    "\n",
    "print(f'\\nTest n_components = {test_accuracies.index(max(test_accuracies))+1}')\n",
    "print(f'Test Accuracy = {max(test_accuracies):3.6f}')\n",
    "print(f'\\nExecution time for {n_comps-1} n_components = {n_component_times[test_accuracies.index(max(test_accuracies))]:3.3f} seconds')\n",
    "\n",
    "\n",
    "print(f'\\nTotal n_components optimization execution time = {sum(n_component_times):3.3f} seconds')"
   ]
  },
  {
   "cell_type": "code",
   "execution_count": 8,
   "metadata": {
    "scrolled": true
   },
   "outputs": [
    {
     "data": {
      "image/png": "[encoded data removed]",
      "text/plain": [
       "<Figure size 432x288 with 1 Axes>"
      ]
     },
     "metadata": {
      "needs_background": "light"
     },
     "output_type": "display_data"
    },
    {
     "data": {
      "image/png": "[encoded data removed]",
      "text/plain": [
       "<Figure size 432x288 with 1 Axes>"
      ]
     },
     "metadata": {
      "needs_background": "light"
     },
     "output_type": "display_data"
    }
   ],
   "source": [
    "# Plot the train & test accuracies\n",
    "plt.figure()\n",
    "plt.plot(range(1,n_comps), train_accuracies, label='train',marker='.')\n",
    "plt.plot(range(1,n_comps), test_accuracies, label='test',marker='.')\n",
    "plt.ylabel('Accuracy score')\n",
    "plt.xlabel('Number of Principal Components used in the model')\n",
    "plt.xticks(range(1,n_comps,1))\n",
    "plt.show()\n",
    "\n",
    "# Plot the execution time for each number of n_components\n",
    "plt.figure()\n",
    "plt.plot(range(1,n_comps), n_component_times, label='time',marker='.')\n",
    "plt.ylabel('Time')\n",
    "plt.xlabel('Number of Principal Components used in the model')\n",
    "plt.xticks(range(1,n_comps,1))\n",
    "plt.show()"
   ]
  },
  {
   "cell_type": "markdown",
   "metadata": {},
   "source": [
    "### Algorithm 2: Naive-Bayes"
   ]
  },
  {
   "cell_type": "code",
   "execution_count": 9,
   "metadata": {},
   "outputs": [
    {
     "name": "stdout",
     "output_type": "stream",
     "text": [
      "Scoring:  GaussianNB(priors=None, var_smoothing=1e-09)\n",
      "Train Accuracy Score: 0.554735\n",
      "Train Scoring Time: 5.993 seconds\n",
      "Test Accuracy Score: 0.549190\n",
      "Test Scoring Time: 2.690 seconds\n",
      "\n"
     ]
    }
   ],
   "source": [
    "from sklearn.naive_bayes import GaussianNB\n",
    "\n",
    "# instantiate\n",
    "nb_model = GaussianNB()\n",
    "\n",
    "# fit\n",
    "nb_model.fit(X_train,y_train)\n",
    "\n",
    "# score\n",
    "y_trs, y_trt, y_tes, y_tet, y_pred = score_model(nb_model,X_train,y_train,X_test,y_test)\n",
    "\n",
    "df_mst.loc[len(df_mst)] = ('nb_model', y_trs, y_trt, y_tes, y_tet, y_pred)"
   ]
  },
  {
   "cell_type": "markdown",
   "metadata": {},
   "source": [
    "### Algorithm 3: K-Nearest Neighbors"
   ]
  },
  {
   "cell_type": "code",
   "execution_count": 10,
   "metadata": {},
   "outputs": [
    {
     "name": "stdout",
     "output_type": "stream",
     "text": [
      "Scoring:  KNeighborsClassifier(algorithm='auto', leaf_size=30, metric='minkowski',\n",
      "                     metric_params=None, n_jobs=None, n_neighbors=5, p=2,\n",
      "                     weights='uniform')\n",
      "Train Accuracy Score: 0.983388\n",
      "Train Scoring Time: 86.939 seconds\n",
      "Test Accuracy Score: 0.977619\n",
      "Test Scoring Time: 41.635 seconds\n",
      "\n"
     ]
    }
   ],
   "source": [
    "from sklearn.neighbors import KNeighborsClassifier\n",
    "\n",
    "# instantiate\n",
    "knn_model = KNeighborsClassifier()\n",
    "\n",
    "# fit\n",
    "knn_model.fit(X_train_pca,y_train)\n",
    "\n",
    "# score\n",
    "y_trs, y_trt, y_tes, y_tet, y_pred = score_model(knn_model,X_train_pca,y_train,X_test_pca,y_test)\n",
    "\n",
    "df_mst.loc[len(df_mst)] = ('knn_model', y_trs, y_trt, y_tes, y_tet, y_pred)"
   ]
  },
  {
   "cell_type": "markdown",
   "metadata": {},
   "source": [
    "### Algorithm 4: Scaled Vector Machine"
   ]
  },
  {
   "cell_type": "code",
   "execution_count": 11,
   "metadata": {},
   "outputs": [
    {
     "name": "stderr",
     "output_type": "stream",
     "text": [
      "C:\\Users\\Rocky\\Anaconda3\\lib\\site-packages\\sklearn\\svm\\base.py:929: ConvergenceWarning: Liblinear failed to converge, increase the number of iterations.\n",
      "  \"the number of iterations.\", ConvergenceWarning)\n"
     ]
    },
    {
     "name": "stdout",
     "output_type": "stream",
     "text": [
      "Scoring:  LinearSVC(C=1.0, class_weight=None, dual=True, fit_intercept=True,\n",
      "          intercept_scaling=1, loss='squared_hinge', max_iter=1000,\n",
      "          multi_class='ovr', penalty='l2', random_state=None, tol=0.0001,\n",
      "          verbose=0)\n",
      "Train Accuracy Score: 0.776306\n",
      "Train Scoring Time: 0.014 seconds\n",
      "Test Accuracy Score: 0.772143\n",
      "Test Scoring Time: 0.006 seconds\n",
      "\n"
     ]
    }
   ],
   "source": [
    "from sklearn.svm import LinearSVC\n",
    "\n",
    "# instantiate\n",
    "svm_model = LinearSVC()\n",
    "\n",
    "# fit\n",
    "svm_model.fit(X_train_pca,y_train)\n",
    "\n",
    "# score\n",
    "y_trs, y_trt, y_tes, y_tet, y_pred = score_model(svm_model,X_train_pca,y_train,X_test_pca,y_test)\n",
    "\n",
    "df_mst.loc[len(df_mst)] = ('svm_model', y_trs, y_trt, y_tes, y_tet, y_pred)"
   ]
  },
  {
   "cell_type": "markdown",
   "metadata": {},
   "source": [
    "### Algorithm 5: Decision Tree"
   ]
  },
  {
   "cell_type": "code",
   "execution_count": 12,
   "metadata": {},
   "outputs": [
    {
     "name": "stdout",
     "output_type": "stream",
     "text": [
      "Scoring:  DecisionTreeClassifier(class_weight=None, criterion='gini', max_depth=None,\n",
      "                       max_features=None, max_leaf_nodes=None,\n",
      "                       min_impurity_decrease=0.0, min_impurity_split=None,\n",
      "                       min_samples_leaf=1, min_samples_split=2,\n",
      "                       min_weight_fraction_leaf=0.0, presort=False,\n",
      "                       random_state=None, splitter='best')\n",
      "Train Accuracy Score: 1.000000\n",
      "Train Scoring Time: 0.177 seconds\n",
      "Test Accuracy Score: 0.865762\n",
      "Test Scoring Time: 0.076 seconds\n",
      "\n"
     ]
    }
   ],
   "source": [
    "from sklearn.tree import DecisionTreeClassifier\n",
    "\n",
    "# instantiate\n",
    "dt_model = DecisionTreeClassifier()\n",
    "\n",
    "# fit\n",
    "dt_model.fit(X_train,y_train)\n",
    "\n",
    "# score\n",
    "y_trs, y_trt, y_tes, y_tet, y_pred = score_model(dt_model,X_train,y_train,X_test,y_test)\n",
    "\n",
    "df_mst.loc[len(df_mst)] = ('dt_model', y_trs, y_trt, y_tes, y_tet, y_pred)"
   ]
  },
  {
   "cell_type": "markdown",
   "metadata": {},
   "source": [
    "### Algorithm 6: XGBoost"
   ]
  },
  {
   "cell_type": "code",
   "execution_count": 13,
   "metadata": {},
   "outputs": [
    {
     "name": "stdout",
     "output_type": "stream",
     "text": [
      "Scoring:  XGBClassifier(base_score=0.5, booster='gbtree', colsample_bylevel=1,\n",
      "              colsample_bynode=1, colsample_bytree=1, gamma=0,\n",
      "              learning_rate=0.1, max_delta_step=0, max_depth=3,\n",
      "              min_child_weight=1, missing=None, n_estimators=100, n_jobs=-1,\n",
      "              nthread=None, objective='multi:softprob', random_state=0,\n",
      "              reg_alpha=0, reg_lambda=1, scale_pos_weight=1, seed=None,\n",
      "              silent=None, subsample=1, verbosity=1)\n",
      "Train Accuracy Score: 0.945245\n",
      "Train Scoring Time: 0.801 seconds\n",
      "Test Accuracy Score: 0.935143\n",
      "Test Scoring Time: 0.358 seconds\n",
      "\n"
     ]
    }
   ],
   "source": [
    "from xgboost import XGBClassifier\n",
    "\n",
    "# instantiate\n",
    "xgb_model = XGBClassifier(n_jobs=-1)\n",
    "\n",
    "# fit\n",
    "xgb_model.fit(X_train,y_train)\n",
    "\n",
    "# score\n",
    "y_trs, y_trt, y_tes, y_tet, y_pred = score_model(xgb_model,X_train,y_train,X_test,y_test)\n",
    "\n",
    "df_mst.loc[len(df_mst)] = ('xgb_model', y_trs, y_trt, y_tes, y_tet, y_pred)"
   ]
  },
  {
   "cell_type": "markdown",
   "metadata": {},
   "source": [
    "### Algorithm 7: Random Forest"
   ]
  },
  {
   "cell_type": "code",
   "execution_count": 14,
   "metadata": {},
   "outputs": [
    {
     "name": "stdout",
     "output_type": "stream",
     "text": [
      "Scoring:  RandomForestClassifier(bootstrap=True, class_weight=None, criterion='gini',\n",
      "                       max_depth=None, max_features='auto', max_leaf_nodes=None,\n",
      "                       min_impurity_decrease=0.0, min_impurity_split=None,\n",
      "                       min_samples_leaf=1, min_samples_split=2,\n",
      "                       min_weight_fraction_leaf=0.0, n_estimators=100,\n",
      "                       n_jobs=-1, oob_score=False, random_state=None, verbose=0,\n",
      "                       warm_start=False)\n",
      "Train Accuracy Score: 1.000000\n",
      "Train Scoring Time: 1.139 seconds\n",
      "Test Accuracy Score: 0.968667\n",
      "Test Scoring Time: 0.511 seconds\n",
      "\n"
     ]
    }
   ],
   "source": [
    "from sklearn.ensemble import RandomForestClassifier\n",
    "\n",
    "start = time.time()\n",
    "# instantiate\n",
    "rf_model = RandomForestClassifier(n_estimators=100,n_jobs=-1)\n",
    "\n",
    "# fit\n",
    "rf_model.fit(X_train,y_train)\n",
    "\n",
    "# score\n",
    "y_trs, y_trt, y_tes, y_tet, y_pred = score_model(rf_model,X_train,y_train,X_test,y_test)\n",
    "\n",
    "df_mst.loc[len(df_mst)] = ('rf_model', y_trs, y_trt, y_tes, y_tet, y_pred)"
   ]
  },
  {
   "cell_type": "markdown",
   "metadata": {},
   "source": [
    "### Quantitative Assessments\n",
    "\n",
    "- Classification Report\n",
    "- Precision/Recall\n",
    "- Accuracy Score\n",
    "- F1 Score"
   ]
  },
  {
   "cell_type": "code",
   "execution_count": 16,
   "metadata": {},
   "outputs": [
    {
     "name": "stdout",
     "output_type": "stream",
     "text": [
      "\n",
      "Model: log_reg\n",
      "\n",
      "Precision Score: 0.9198095238095239\n",
      "Recall Score: 0.9198095238095239\n",
      "F1 Score: 0.9198095238095237\n",
      "              precision    recall  f1-score   support\n",
      "\n",
      "         0.0       0.96      0.97      0.96      2047\n",
      "         1.0       0.96      0.97      0.97      2359\n",
      "         2.0       0.92      0.90      0.91      2121\n",
      "         3.0       0.90      0.90      0.90      2169\n",
      "         4.0       0.91      0.93      0.92      2085\n",
      "         5.0       0.88      0.85      0.87      1869\n",
      "         6.0       0.93      0.96      0.94      2045\n",
      "         7.0       0.94      0.93      0.94      2186\n",
      "         8.0       0.87      0.89      0.88      2022\n",
      "         9.0       0.90      0.89      0.90      2097\n",
      "\n",
      "    accuracy                           0.92     21000\n",
      "   macro avg       0.92      0.92      0.92     21000\n",
      "weighted avg       0.92      0.92      0.92     21000\n",
      "\n",
      "\n",
      "Model: nb_model\n",
      "\n",
      "Precision Score: 0.5491904761904762\n",
      "Recall Score: 0.5491904761904762\n",
      "F1 Score: 0.5491904761904762\n",
      "              precision    recall  f1-score   support\n",
      "\n",
      "         0.0       0.75      0.89      0.81      2047\n",
      "         1.0       0.80      0.95      0.87      2359\n",
      "         2.0       0.87      0.25      0.39      2121\n",
      "         3.0       0.71      0.39      0.50      2169\n",
      "         4.0       0.84      0.15      0.26      2085\n",
      "         5.0       0.55      0.05      0.09      1869\n",
      "         6.0       0.62      0.94      0.74      2045\n",
      "         7.0       0.90      0.28      0.43      2186\n",
      "         8.0       0.28      0.58      0.38      2022\n",
      "         9.0       0.36      0.95      0.52      2097\n",
      "\n",
      "    accuracy                           0.55     21000\n",
      "   macro avg       0.67      0.54      0.50     21000\n",
      "weighted avg       0.67      0.55      0.51     21000\n",
      "\n",
      "\n",
      "Model: knn_model\n",
      "\n",
      "Precision Score: 0.9776190476190476\n",
      "Recall Score: 0.9776190476190476\n",
      "F1 Score: 0.9776190476190476\n",
      "              precision    recall  f1-score   support\n",
      "\n",
      "         0.0       0.98      0.99      0.99      2047\n",
      "         1.0       0.98      0.99      0.99      2359\n",
      "         2.0       0.98      0.98      0.98      2121\n",
      "         3.0       0.98      0.97      0.97      2169\n",
      "         4.0       0.98      0.96      0.97      2085\n",
      "         5.0       0.97      0.97      0.97      1869\n",
      "         6.0       0.98      0.99      0.98      2045\n",
      "         7.0       0.98      0.98      0.98      2186\n",
      "         8.0       0.98      0.97      0.98      2022\n",
      "         9.0       0.96      0.97      0.97      2097\n",
      "\n",
      "    accuracy                           0.98     21000\n",
      "   macro avg       0.98      0.98      0.98     21000\n",
      "weighted avg       0.98      0.98      0.98     21000\n",
      "\n",
      "\n",
      "Model: svm_model\n",
      "\n",
      "Precision Score: 0.7721428571428571\n",
      "Recall Score: 0.7721428571428571\n",
      "F1 Score: 0.7721428571428571\n",
      "              precision    recall  f1-score   support\n",
      "\n",
      "         0.0       0.87      0.88      0.87      2047\n",
      "         1.0       0.79      0.95      0.86      2359\n",
      "         2.0       0.83      0.77      0.80      2121\n",
      "         3.0       0.79      0.72      0.75      2169\n",
      "         4.0       0.77      0.69      0.73      2085\n",
      "         5.0       0.68      0.65      0.67      1869\n",
      "         6.0       0.78      0.89      0.83      2045\n",
      "         7.0       0.88      0.69      0.77      2186\n",
      "         8.0       0.73      0.64      0.68      2022\n",
      "         9.0       0.64      0.81      0.72      2097\n",
      "\n",
      "    accuracy                           0.77     21000\n",
      "   macro avg       0.78      0.77      0.77     21000\n",
      "weighted avg       0.78      0.77      0.77     21000\n",
      "\n",
      "\n",
      "Model: dt_model\n",
      "\n",
      "Precision Score: 0.8657619047619047\n",
      "Recall Score: 0.8657619047619047\n",
      "F1 Score: 0.8657619047619046\n",
      "              precision    recall  f1-score   support\n",
      "\n",
      "         0.0       0.91      0.92      0.91      2047\n",
      "         1.0       0.94      0.96      0.95      2359\n",
      "         2.0       0.85      0.86      0.86      2121\n",
      "         3.0       0.84      0.83      0.83      2169\n",
      "         4.0       0.86      0.86      0.86      2085\n",
      "         5.0       0.81      0.83      0.82      1869\n",
      "         6.0       0.90      0.90      0.90      2045\n",
      "         7.0       0.90      0.89      0.90      2186\n",
      "         8.0       0.81      0.78      0.79      2022\n",
      "         9.0       0.82      0.82      0.82      2097\n",
      "\n",
      "    accuracy                           0.87     21000\n",
      "   macro avg       0.86      0.86      0.86     21000\n",
      "weighted avg       0.87      0.87      0.87     21000\n",
      "\n",
      "\n",
      "Model: xgb_model\n",
      "\n",
      "Precision Score: 0.9351428571428572\n",
      "Recall Score: 0.9351428571428572\n",
      "F1 Score: 0.9351428571428572\n",
      "              precision    recall  f1-score   support\n",
      "\n",
      "         0.0       0.97      0.97      0.97      2047\n",
      "         1.0       0.96      0.98      0.97      2359\n",
      "         2.0       0.94      0.93      0.94      2121\n",
      "         3.0       0.94      0.90      0.92      2169\n",
      "         4.0       0.92      0.93      0.92      2085\n",
      "         5.0       0.92      0.90      0.91      1869\n",
      "         6.0       0.95      0.96      0.96      2045\n",
      "         7.0       0.95      0.93      0.94      2186\n",
      "         8.0       0.91      0.93      0.92      2022\n",
      "         9.0       0.89      0.91      0.90      2097\n",
      "\n",
      "    accuracy                           0.94     21000\n",
      "   macro avg       0.93      0.93      0.93     21000\n",
      "weighted avg       0.94      0.94      0.94     21000\n",
      "\n",
      "\n",
      "Model: rf_model\n",
      "\n",
      "Precision Score: 0.9686666666666667\n",
      "Recall Score: 0.9686666666666667\n",
      "F1 Score: 0.9686666666666667\n",
      "              precision    recall  f1-score   support\n",
      "\n",
      "         0.0       0.98      0.98      0.98      2047\n",
      "         1.0       0.98      0.98      0.98      2359\n",
      "         2.0       0.96      0.97      0.97      2121\n",
      "         3.0       0.97      0.96      0.96      2169\n",
      "         4.0       0.96      0.97      0.97      2085\n",
      "         5.0       0.97      0.96      0.96      1869\n",
      "         6.0       0.97      0.98      0.98      2045\n",
      "         7.0       0.98      0.97      0.97      2186\n",
      "         8.0       0.95      0.96      0.96      2022\n",
      "         9.0       0.96      0.95      0.95      2097\n",
      "\n",
      "    accuracy                           0.97     21000\n",
      "   macro avg       0.97      0.97      0.97     21000\n",
      "weighted avg       0.97      0.97      0.97     21000\n",
      "\n"
     ]
    }
   ],
   "source": [
    "from sklearn.metrics import f1_score\n",
    "from sklearn.metrics import precision_score\n",
    "from sklearn.metrics import recall_score\n",
    "from sklearn.metrics import classification_report\n",
    "\n",
    "for x in range(0,len(df_mst)):\n",
    "    \n",
    "    print(f\"\\nModel: {df_mst.iloc[x,0]}\\n\")\n",
    "    print(f\"Precision Score: {precision_score(y_test,df_mst.iloc[x,5],average='micro')}\")\n",
    "    print(f\"Recall Score: {recall_score(y_test,df_mst.iloc[x,5],average='micro')}\")\n",
    "    print(f\"F1 Score: {f1_score(y_test,df_mst.iloc[x,5],average='micro')}\")\n",
    "\n",
    "    print(classification_report(y_test,df_mst.iloc[x,5]))"
   ]
  },
  {
   "cell_type": "code",
   "execution_count": 17,
   "metadata": {},
   "outputs": [
    {
     "data": {
      "image/png": "[encoded data removed]",
      "text/plain": [
       "<Figure size 432x288 with 1 Axes>"
      ]
     },
     "metadata": {
      "needs_background": "light"
     },
     "output_type": "display_data"
    }
   ],
   "source": [
    "# Plot the model train & test accuracy scores\n",
    "\n",
    "plt.figure()\n",
    "plt.plot(df_mst['y_train_score'], label='train score',marker='.')\n",
    "plt.plot(df_mst['y_test_score'], label='test score',marker='.')\n",
    "plt.ylabel('Model Score')\n",
    "plt.xlabel('Models')\n",
    "plt.xticks(range(0,len(df_mst),1),df_mst['model_name'],rotation=90)\n",
    "plt.show()"
   ]
  },
  {
   "cell_type": "code",
   "execution_count": 18,
   "metadata": {},
   "outputs": [
    {
     "data": {
      "image/png": "[encoded data removed]",
      "text/plain": [
       "<Figure size 432x288 with 1 Axes>"
      ]
     },
     "metadata": {
      "needs_background": "light"
     },
     "output_type": "display_data"
    }
   ],
   "source": [
    "# Plot the model training & testing execution times \n",
    "\n",
    "plt.figure()\n",
    "plt.plot(df_mst['y_train_time'], label='train time',marker='.')\n",
    "plt.plot(df_mst['y_test_time'], label='test time',marker='.')\n",
    "plt.ylabel('Model Train Time (seconds)')\n",
    "plt.xlabel('Models')\n",
    "plt.xticks(range(0,len(df_mst),1),df_mst['model_name'],rotation=90)\n",
    "plt.show()"
   ]
  },
  {
   "cell_type": "code",
   "execution_count": 19,
   "metadata": {},
   "outputs": [
    {
     "data": {
      "text/html": [
       "<div>\n",
       "<style scoped>\n",
       "    .dataframe tbody tr th:only-of-type {\n",
       "        vertical-align: middle;\n",
       "    }\n",
       "\n",
       "    .dataframe tbody tr th {\n",
       "        vertical-align: top;\n",
       "    }\n",
       "\n",
       "    .dataframe thead th {\n",
       "        text-align: right;\n",
       "    }\n",
       "</style>\n",
       "<table border=\"1\" class=\"dataframe\">\n",
       "  <thead>\n",
       "    <tr style=\"text-align: right;\">\n",
       "      <th></th>\n",
       "      <th>model_name</th>\n",
       "      <th>y_train_score</th>\n",
       "      <th>y_train_time</th>\n",
       "      <th>y_test_score</th>\n",
       "      <th>y_test_time</th>\n",
       "      <th>y_test_pred</th>\n",
       "    </tr>\n",
       "  </thead>\n",
       "  <tbody>\n",
       "    <tr>\n",
       "      <th>0</th>\n",
       "      <td>log_reg</td>\n",
       "      <td>0.935816</td>\n",
       "      <td>0.193115</td>\n",
       "      <td>0.919810</td>\n",
       "      <td>0.093297</td>\n",
       "      <td>[0.0, 7.0, 7.0, 7.0, 8.0, 7.0, 6.0, 7.0, 2.0, ...</td>\n",
       "    </tr>\n",
       "    <tr>\n",
       "      <th>1</th>\n",
       "      <td>nb_model</td>\n",
       "      <td>0.554735</td>\n",
       "      <td>5.993084</td>\n",
       "      <td>0.549190</td>\n",
       "      <td>2.690154</td>\n",
       "      <td>[0.0, 7.0, 8.0, 7.0, 8.0, 7.0, 6.0, 9.0, 2.0, ...</td>\n",
       "    </tr>\n",
       "    <tr>\n",
       "      <th>2</th>\n",
       "      <td>knn_model</td>\n",
       "      <td>0.983388</td>\n",
       "      <td>86.939057</td>\n",
       "      <td>0.977619</td>\n",
       "      <td>41.634592</td>\n",
       "      <td>[0.0, 7.0, 7.0, 7.0, 8.0, 7.0, 6.0, 7.0, 2.0, ...</td>\n",
       "    </tr>\n",
       "    <tr>\n",
       "      <th>3</th>\n",
       "      <td>svm_model</td>\n",
       "      <td>0.776306</td>\n",
       "      <td>0.013999</td>\n",
       "      <td>0.772143</td>\n",
       "      <td>0.006000</td>\n",
       "      <td>[5.0, 7.0, 7.0, 7.0, 8.0, 7.0, 6.0, 7.0, 2.0, ...</td>\n",
       "    </tr>\n",
       "    <tr>\n",
       "      <th>4</th>\n",
       "      <td>dt_model</td>\n",
       "      <td>1.000000</td>\n",
       "      <td>0.176994</td>\n",
       "      <td>0.865762</td>\n",
       "      <td>0.075997</td>\n",
       "      <td>[0.0, 7.0, 7.0, 7.0, 8.0, 7.0, 6.0, 7.0, 2.0, ...</td>\n",
       "    </tr>\n",
       "    <tr>\n",
       "      <th>5</th>\n",
       "      <td>xgb_model</td>\n",
       "      <td>0.945245</td>\n",
       "      <td>0.801201</td>\n",
       "      <td>0.935143</td>\n",
       "      <td>0.358146</td>\n",
       "      <td>[0.0, 7.0, 7.0, 7.0, 8.0, 7.0, 6.0, 7.0, 2.0, ...</td>\n",
       "    </tr>\n",
       "    <tr>\n",
       "      <th>6</th>\n",
       "      <td>rf_model</td>\n",
       "      <td>1.000000</td>\n",
       "      <td>1.139017</td>\n",
       "      <td>0.968667</td>\n",
       "      <td>0.510981</td>\n",
       "      <td>[0.0, 7.0, 7.0, 7.0, 8.0, 7.0, 6.0, 7.0, 2.0, ...</td>\n",
       "    </tr>\n",
       "  </tbody>\n",
       "</table>\n",
       "</div>"
      ],
      "text/plain": [
       "  model_name  y_train_score  y_train_time  y_test_score  y_test_time  \\\n",
       "0    log_reg       0.935816      0.193115      0.919810     0.093297   \n",
       "1   nb_model       0.554735      5.993084      0.549190     2.690154   \n",
       "2  knn_model       0.983388     86.939057      0.977619    41.634592   \n",
       "3  svm_model       0.776306      0.013999      0.772143     0.006000   \n",
       "4   dt_model       1.000000      0.176994      0.865762     0.075997   \n",
       "5  xgb_model       0.945245      0.801201      0.935143     0.358146   \n",
       "6   rf_model       1.000000      1.139017      0.968667     0.510981   \n",
       "\n",
       "                                         y_test_pred  \n",
       "0  [0.0, 7.0, 7.0, 7.0, 8.0, 7.0, 6.0, 7.0, 2.0, ...  \n",
       "1  [0.0, 7.0, 8.0, 7.0, 8.0, 7.0, 6.0, 9.0, 2.0, ...  \n",
       "2  [0.0, 7.0, 7.0, 7.0, 8.0, 7.0, 6.0, 7.0, 2.0, ...  \n",
       "3  [5.0, 7.0, 7.0, 7.0, 8.0, 7.0, 6.0, 7.0, 2.0, ...  \n",
       "4  [0.0, 7.0, 7.0, 7.0, 8.0, 7.0, 6.0, 7.0, 2.0, ...  \n",
       "5  [0.0, 7.0, 7.0, 7.0, 8.0, 7.0, 6.0, 7.0, 2.0, ...  \n",
       "6  [0.0, 7.0, 7.0, 7.0, 8.0, 7.0, 6.0, 7.0, 2.0, ...  "
      ]
     },
     "metadata": {},
     "output_type": "display_data"
    }
   ],
   "source": [
    "display(df_mst)"
   ]
  },
  {
   "cell_type": "markdown",
   "metadata": {},
   "source": [
    "### Conclusion\n",
    "\n",
    "The K-Nearest Neighbors algorithm offers the best overall accuracy score of __~0.98__ (0.977667) followed by the Random Forest algorithm with __~0.97__ (0.969810). However after closer examination, the KNN model has a higher precision/recall and F1 score across all classes and would recommend it over the Random Forest model."
   ]
  }
 ],
 "metadata": {
  "kernelspec": {
   "display_name": "Python 3",
   "language": "python",
   "name": "python3"
  },
  "language_info": {
   "codemirror_mode": {
    "name": "ipython",
    "version": 3
   },
   "file_extension": ".py",
   "mimetype": "text/x-python",
   "name": "python",
   "nbconvert_exporter": "python",
   "pygments_lexer": "ipython3",
   "version": "3.7.3"
  }
 },
 "nbformat": 4,
 "nbformat_minor": 2
}
